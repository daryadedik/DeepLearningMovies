{
 "cells": [
  {
   "cell_type": "code",
   "execution_count": 1,
   "metadata": {
    "collapsed": true
   },
   "outputs": [],
   "source": [
    "import pandas as pd\n",
    "import numpy as np\n",
    "import matplotlib.pyplot as plt\n",
    "\n",
    "import pickle\n",
    "import os.path\n",
    "import re\n",
    "from bs4 import BeautifulSoup\n",
    "from nltk.corpus import stopwords\n",
    "\n",
    "import nltk.data\n",
    "#nltk.download()"
   ]
  },
  {
   "cell_type": "code",
   "execution_count": 2,
   "metadata": {
    "collapsed": false
   },
   "outputs": [
    {
     "name": "stdout",
     "output_type": "stream",
     "text": [
      "Read 25000 labeled train reviews, 25000 labeled test reviews, and 50000 unlabeled reviews\n",
      "\n"
     ]
    }
   ],
   "source": [
    "# Read data from files \n",
    "train = pd.read_csv( \"labeledTrainData.tsv\", header=0, delimiter=\"\\t\", quoting=3 )\n",
    "test = pd.read_csv( \"testData.tsv\", header=0, delimiter=\"\\t\", quoting=3 )\n",
    "unlabeled_train = pd.read_csv( \"unlabeledTrainData.tsv\", header=0, delimiter=\"\\t\", quoting=3 )\n",
    "\n",
    "# Verify the number of reviews that were read (100,000 in total)\n",
    "print(\"Read {} labeled train reviews, {} labeled test reviews, \" \\\n",
    "    \"and {} unlabeled reviews\\n\".format(train[\"review\"].size,\n",
    "                                    test[\"review\"].size, \n",
    "                                    unlabeled_train[\"review\"].size))"
   ]
  },
  {
   "cell_type": "code",
   "execution_count": 3,
   "metadata": {
    "collapsed": true
   },
   "outputs": [],
   "source": [
    "def review_to_wordlist( review, remove_stopwords=False ):\n",
    "    # Function to convert a document to a sequence of words,\n",
    "    # optionally removing stop words.  Returns a list of words.\n",
    "    #\n",
    "    # 1. Remove HTML\n",
    "    review_text = BeautifulSoup(review, \"html.parser\").get_text()\n",
    "    #  \n",
    "    # 2. Remove non-letters\n",
    "    review_text = re.sub(\"[^a-zA-Z]\",\" \", review_text)\n",
    "    #\n",
    "    # 3. Convert words to lower case and split them\n",
    "    words = review_text.lower().split()\n",
    "    #\n",
    "    # 4. Optionally remove stop words (false by default)\n",
    "    if remove_stopwords:\n",
    "        stops = set(stopwords.words(\"english\"))\n",
    "        words = [w for w in words if not w in stops]\n",
    "    #\n",
    "    # 5. Return a list of words\n",
    "    return(words)"
   ]
  },
  {
   "cell_type": "code",
   "execution_count": 4,
   "metadata": {
    "collapsed": false
   },
   "outputs": [],
   "source": [
    "tokenizer = nltk.data.load('tokenizers/punkt/english.pickle')\n",
    "\n",
    "# Define a function to split a review into parsed sentences\n",
    "def review_to_sentences(review, tokenizer, remove_stopwords=False):\n",
    "    # Function to split a review into parsed sentences. Returns a \n",
    "    # list of sentences, where each sentence is a list of words\n",
    "    #\n",
    "    # 1. Use the NLTK tokenizer to split the paragraph into sentences\n",
    "    raw_sentences = tokenizer.tokenize(review.strip())\n",
    "    #\n",
    "    # 2. Loop over each sentence\n",
    "    sentences = []\n",
    "    for raw_sentence in raw_sentences:\n",
    "        # If a sentence is empty, skip it\n",
    "        if len(raw_sentence) > 0:\n",
    "            # Otherwise, call review_to_wordlist to get a list of words\n",
    "            sentences.append(review_to_wordlist(raw_sentence, remove_stopwords))\n",
    "    #\n",
    "    # Return the list of sentences (each sentence is a list of words,\n",
    "    # so this returns a list of lists\n",
    "    return sentences"
   ]
  },
  {
   "cell_type": "code",
   "execution_count": 5,
   "metadata": {
    "collapsed": true
   },
   "outputs": [],
   "source": [
    "sentences_file = \"sentences.pickle\"\n",
    "sentences = []\n",
    "\n",
    "if os.path.isfile(sentences_file):\n",
    "    with open(sentences_file, 'rb') as f:\n",
    "        sentences = pickle.load(f)"
   ]
  },
  {
   "cell_type": "code",
   "execution_count": 6,
   "metadata": {
    "collapsed": false
   },
   "outputs": [],
   "source": [
    "if not sentences:\n",
    "    sentences = []  # Initialize an empty list of sentences\n",
    "\n",
    "    print(\"Parsing sentences from training set...\")\n",
    "    for review in train[\"review\"]:\n",
    "        sentences += review_to_sentences(review, tokenizer)\n",
    "\n",
    "    print(\"Parsing sentences from unlabeled set...\")\n",
    "    for review in unlabeled_train[\"review\"]:\n",
    "        sentences += review_to_sentences(review, tokenizer)\n",
    "\n",
    "    with open(sentences_file, 'wb') as f:\n",
    "        pickle.dump(sentences, f, pickle.HIGHEST_PROTOCOL)"
   ]
  },
  {
   "cell_type": "code",
   "execution_count": 7,
   "metadata": {
    "collapsed": false
   },
   "outputs": [
    {
     "data": {
      "text/plain": [
       "795538"
      ]
     },
     "execution_count": 7,
     "metadata": {},
     "output_type": "execute_result"
    }
   ],
   "source": [
    "len(sentences)"
   ]
  },
  {
   "cell_type": "code",
   "execution_count": 8,
   "metadata": {
    "collapsed": false
   },
   "outputs": [
    {
     "name": "stdout",
     "output_type": "stream",
     "text": [
      "['with', 'all', 'this', 'stuff', 'going', 'down', 'at', 'the', 'moment', 'with', 'mj', 'i', 've', 'started', 'listening', 'to', 'his', 'music', 'watching', 'the', 'odd', 'documentary', 'here', 'and', 'there', 'watched', 'the', 'wiz', 'and', 'watched', 'moonwalker', 'again']\n"
     ]
    }
   ],
   "source": [
    "print(sentences[0])"
   ]
  },
  {
   "cell_type": "code",
   "execution_count": 9,
   "metadata": {
    "collapsed": false
   },
   "outputs": [
    {
     "name": "stdout",
     "output_type": "stream",
     "text": [
      "['maybe', 'i', 'just', 'want', 'to', 'get', 'a', 'certain', 'insight', 'into', 'this', 'guy', 'who', 'i', 'thought', 'was', 'really', 'cool', 'in', 'the', 'eighties', 'just', 'to', 'maybe', 'make', 'up', 'my', 'mind', 'whether', 'he', 'is', 'guilty', 'or', 'innocent']\n"
     ]
    }
   ],
   "source": [
    "print(sentences[1])"
   ]
  },
  {
   "cell_type": "code",
   "execution_count": 10,
   "metadata": {
    "collapsed": true
   },
   "outputs": [],
   "source": [
    "word2vec_file = \"word2vec_model.pickle\"\n",
    "model = None\n",
    "\n",
    "if os.path.isfile(word2vec_file):\n",
    "    with open(word2vec_file, 'rb') as f:\n",
    "        model = pickle.load(f)"
   ]
  },
  {
   "cell_type": "code",
   "execution_count": 11,
   "metadata": {
    "collapsed": false
   },
   "outputs": [
    {
     "name": "stderr",
     "output_type": "stream",
     "text": [
      "2016-12-04 19:22:40,414 : INFO : Pattern library is not installed, lemmatization won't be available.\n",
      "2016-12-04 19:22:40,438 : INFO : Could not import Theano, will use standard float for default ShardedCorpus dtype.\n",
      "2016-12-04 19:22:40,892 : INFO : 'pattern' package not found; tag filters are not available for English\n",
      "2016-12-04 19:22:40,912 : INFO : collecting all words and their counts\n",
      "2016-12-04 19:22:40,915 : INFO : PROGRESS: at sentence #0, processed 0 words, keeping 0 word types\n",
      "2016-12-04 19:22:41,009 : INFO : PROGRESS: at sentence #10000, processed 225803 words, keeping 17776 word types\n",
      "2016-12-04 19:22:41,096 : INFO : PROGRESS: at sentence #20000, processed 451892 words, keeping 24948 word types\n"
     ]
    },
    {
     "name": "stdout",
     "output_type": "stream",
     "text": [
      "Training model...\n"
     ]
    },
    {
     "name": "stderr",
     "output_type": "stream",
     "text": [
      "2016-12-04 19:22:41,191 : INFO : PROGRESS: at sentence #30000, processed 671314 words, keeping 30034 word types\n",
      "2016-12-04 19:22:41,288 : INFO : PROGRESS: at sentence #40000, processed 897814 words, keeping 34348 word types\n",
      "2016-12-04 19:22:41,380 : INFO : PROGRESS: at sentence #50000, processed 1116962 words, keeping 37761 word types\n",
      "2016-12-04 19:22:41,471 : INFO : PROGRESS: at sentence #60000, processed 1338403 words, keeping 40723 word types\n",
      "2016-12-04 19:22:41,557 : INFO : PROGRESS: at sentence #70000, processed 1561579 words, keeping 43333 word types\n",
      "2016-12-04 19:22:41,641 : INFO : PROGRESS: at sentence #80000, processed 1780886 words, keeping 45714 word types\n",
      "2016-12-04 19:22:41,724 : INFO : PROGRESS: at sentence #90000, processed 2004995 words, keeping 48135 word types\n",
      "2016-12-04 19:22:41,807 : INFO : PROGRESS: at sentence #100000, processed 2226966 words, keeping 50207 word types\n",
      "2016-12-04 19:22:41,894 : INFO : PROGRESS: at sentence #110000, processed 2446580 words, keeping 52081 word types\n",
      "2016-12-04 19:22:41,991 : INFO : PROGRESS: at sentence #120000, processed 2668775 words, keeping 54119 word types\n",
      "2016-12-04 19:22:42,083 : INFO : PROGRESS: at sentence #130000, processed 2894303 words, keeping 55847 word types\n",
      "2016-12-04 19:22:42,182 : INFO : PROGRESS: at sentence #140000, processed 3107005 words, keeping 57346 word types\n",
      "2016-12-04 19:22:42,280 : INFO : PROGRESS: at sentence #150000, processed 3332627 words, keeping 59055 word types\n",
      "2016-12-04 19:22:42,373 : INFO : PROGRESS: at sentence #160000, processed 3555315 words, keeping 60617 word types\n",
      "2016-12-04 19:22:42,459 : INFO : PROGRESS: at sentence #170000, processed 3778655 words, keeping 62077 word types\n",
      "2016-12-04 19:22:42,543 : INFO : PROGRESS: at sentence #180000, processed 3999236 words, keeping 63496 word types\n",
      "2016-12-04 19:22:42,632 : INFO : PROGRESS: at sentence #190000, processed 4224449 words, keeping 64794 word types\n",
      "2016-12-04 19:22:42,728 : INFO : PROGRESS: at sentence #200000, processed 4448603 words, keeping 66087 word types\n",
      "2016-12-04 19:22:42,836 : INFO : PROGRESS: at sentence #210000, processed 4669967 words, keeping 67390 word types\n",
      "2016-12-04 19:22:42,929 : INFO : PROGRESS: at sentence #220000, processed 4894968 words, keeping 68697 word types\n",
      "2016-12-04 19:22:43,020 : INFO : PROGRESS: at sentence #230000, processed 5117545 words, keeping 69958 word types\n",
      "2016-12-04 19:22:43,109 : INFO : PROGRESS: at sentence #240000, processed 5345050 words, keeping 71167 word types\n",
      "2016-12-04 19:22:43,191 : INFO : PROGRESS: at sentence #250000, processed 5559165 words, keeping 72351 word types\n",
      "2016-12-04 19:22:43,274 : INFO : PROGRESS: at sentence #260000, processed 5779146 words, keeping 73478 word types\n",
      "2016-12-04 19:22:43,360 : INFO : PROGRESS: at sentence #270000, processed 6000435 words, keeping 74767 word types\n",
      "2016-12-04 19:22:43,445 : INFO : PROGRESS: at sentence #280000, processed 6226314 words, keeping 76369 word types\n",
      "2016-12-04 19:22:43,530 : INFO : PROGRESS: at sentence #290000, processed 6449474 words, keeping 77839 word types\n",
      "2016-12-04 19:22:43,619 : INFO : PROGRESS: at sentence #300000, processed 6674077 words, keeping 79171 word types\n",
      "2016-12-04 19:22:43,715 : INFO : PROGRESS: at sentence #310000, processed 6899391 words, keeping 80480 word types\n",
      "2016-12-04 19:22:43,811 : INFO : PROGRESS: at sentence #320000, processed 7124278 words, keeping 81808 word types\n",
      "2016-12-04 19:22:43,907 : INFO : PROGRESS: at sentence #330000, processed 7346021 words, keeping 83030 word types\n",
      "2016-12-04 19:22:44,004 : INFO : PROGRESS: at sentence #340000, processed 7575533 words, keeping 84280 word types\n",
      "2016-12-04 19:22:44,101 : INFO : PROGRESS: at sentence #350000, processed 7798803 words, keeping 85425 word types\n",
      "2016-12-04 19:22:44,199 : INFO : PROGRESS: at sentence #360000, processed 8019466 words, keeping 86596 word types\n",
      "2016-12-04 19:22:44,307 : INFO : PROGRESS: at sentence #370000, processed 8246654 words, keeping 87708 word types\n",
      "2016-12-04 19:22:44,400 : INFO : PROGRESS: at sentence #380000, processed 8471801 words, keeping 88878 word types\n",
      "2016-12-04 19:22:44,495 : INFO : PROGRESS: at sentence #390000, processed 8701551 words, keeping 89907 word types\n",
      "2016-12-04 19:22:44,582 : INFO : PROGRESS: at sentence #400000, processed 8924500 words, keeping 90916 word types\n",
      "2016-12-04 19:22:44,670 : INFO : PROGRESS: at sentence #410000, processed 9145850 words, keeping 91880 word types\n",
      "2016-12-04 19:22:44,754 : INFO : PROGRESS: at sentence #420000, processed 9366930 words, keeping 92912 word types\n",
      "2016-12-04 19:22:44,846 : INFO : PROGRESS: at sentence #430000, processed 9594467 words, keeping 93932 word types\n",
      "2016-12-04 19:22:44,934 : INFO : PROGRESS: at sentence #440000, processed 9821218 words, keeping 94906 word types\n",
      "2016-12-04 19:22:45,022 : INFO : PROGRESS: at sentence #450000, processed 10044980 words, keeping 96036 word types\n",
      "2016-12-04 19:22:45,112 : INFO : PROGRESS: at sentence #460000, processed 10277740 words, keeping 97088 word types\n",
      "2016-12-04 19:22:45,201 : INFO : PROGRESS: at sentence #470000, processed 10505665 words, keeping 97933 word types\n",
      "2016-12-04 19:22:45,290 : INFO : PROGRESS: at sentence #480000, processed 10726049 words, keeping 98862 word types\n",
      "2016-12-04 19:22:45,378 : INFO : PROGRESS: at sentence #490000, processed 10952793 words, keeping 99871 word types\n",
      "2016-12-04 19:22:45,467 : INFO : PROGRESS: at sentence #500000, processed 11174449 words, keeping 100765 word types\n",
      "2016-12-04 19:22:45,554 : INFO : PROGRESS: at sentence #510000, processed 11399724 words, keeping 101699 word types\n",
      "2016-12-04 19:22:45,644 : INFO : PROGRESS: at sentence #520000, processed 11623075 words, keeping 102598 word types\n",
      "2016-12-04 19:22:45,730 : INFO : PROGRESS: at sentence #530000, processed 11847473 words, keeping 103400 word types\n",
      "2016-12-04 19:22:45,821 : INFO : PROGRESS: at sentence #540000, processed 12072088 words, keeping 104265 word types\n",
      "2016-12-04 19:22:45,911 : INFO : PROGRESS: at sentence #550000, processed 12297639 words, keeping 105133 word types\n",
      "2016-12-04 19:22:45,998 : INFO : PROGRESS: at sentence #560000, processed 12518929 words, keeping 105997 word types\n",
      "2016-12-04 19:22:46,088 : INFO : PROGRESS: at sentence #570000, processed 12748076 words, keeping 106787 word types\n",
      "2016-12-04 19:22:46,176 : INFO : PROGRESS: at sentence #580000, processed 12969572 words, keeping 107665 word types\n",
      "2016-12-04 19:22:46,265 : INFO : PROGRESS: at sentence #590000, processed 13195097 words, keeping 108501 word types\n",
      "2016-12-04 19:22:46,353 : INFO : PROGRESS: at sentence #600000, processed 13417295 words, keeping 109218 word types\n",
      "2016-12-04 19:22:46,441 : INFO : PROGRESS: at sentence #610000, processed 13638318 words, keeping 110092 word types\n",
      "2016-12-04 19:22:46,530 : INFO : PROGRESS: at sentence #620000, processed 13864643 words, keeping 110837 word types\n",
      "2016-12-04 19:22:46,616 : INFO : PROGRESS: at sentence #630000, processed 14088929 words, keeping 111610 word types\n",
      "2016-12-04 19:22:46,705 : INFO : PROGRESS: at sentence #640000, processed 14309712 words, keeping 112416 word types\n",
      "2016-12-04 19:22:46,792 : INFO : PROGRESS: at sentence #650000, processed 14535468 words, keeping 113196 word types\n",
      "2016-12-04 19:22:46,876 : INFO : PROGRESS: at sentence #660000, processed 14758258 words, keeping 113945 word types\n",
      "2016-12-04 19:22:46,981 : INFO : PROGRESS: at sentence #670000, processed 14981651 words, keeping 114643 word types\n",
      "2016-12-04 19:22:47,077 : INFO : PROGRESS: at sentence #680000, processed 15206483 words, keeping 115354 word types\n",
      "2016-12-04 19:22:47,179 : INFO : PROGRESS: at sentence #690000, processed 15428676 words, keeping 116131 word types\n",
      "2016-12-04 19:22:47,269 : INFO : PROGRESS: at sentence #700000, processed 15657382 words, keeping 116943 word types\n",
      "2016-12-04 19:22:47,349 : INFO : PROGRESS: at sentence #710000, processed 15880371 words, keeping 117596 word types\n",
      "2016-12-04 19:22:47,430 : INFO : PROGRESS: at sentence #720000, processed 16105658 words, keeping 118221 word types\n",
      "2016-12-04 19:22:47,515 : INFO : PROGRESS: at sentence #730000, processed 16332039 words, keeping 118954 word types\n",
      "2016-12-04 19:22:47,598 : INFO : PROGRESS: at sentence #740000, processed 16553072 words, keeping 119668 word types\n",
      "2016-12-04 19:22:47,678 : INFO : PROGRESS: at sentence #750000, processed 16771399 words, keeping 120295 word types\n",
      "2016-12-04 19:22:47,759 : INFO : PROGRESS: at sentence #760000, processed 16990803 words, keeping 120930 word types\n",
      "2016-12-04 19:22:47,844 : INFO : PROGRESS: at sentence #770000, processed 17217940 words, keeping 121703 word types\n",
      "2016-12-04 19:22:47,941 : INFO : PROGRESS: at sentence #780000, processed 17448086 words, keeping 122402 word types\n",
      "2016-12-04 19:22:48,041 : INFO : PROGRESS: at sentence #790000, processed 17675162 words, keeping 123066 word types\n",
      "2016-12-04 19:22:48,095 : INFO : collected 123504 word types from a corpus of 17798263 raw words and 795538 sentences\n",
      "2016-12-04 19:22:48,294 : INFO : min_count=50 retains 14502 unique words (drops 109002)\n",
      "2016-12-04 19:22:48,295 : INFO : min_count leaves 17151115 word corpus (96% of original 17798263)\n",
      "2016-12-04 19:22:48,415 : INFO : deleting the raw counts dictionary of 123504 items\n",
      "2016-12-04 19:22:48,434 : INFO : sample=0.001 downsamples 48 most-common words\n",
      "2016-12-04 19:22:48,435 : INFO : downsampling leaves estimated 12651724 word corpus (73.8% of prior 17151115)\n",
      "2016-12-04 19:22:48,437 : INFO : estimated required memory for 14502 words and 100 dimensions: 18852600 bytes\n",
      "2016-12-04 19:22:48,526 : INFO : resetting layer weights\n",
      "2016-12-04 19:22:48,965 : INFO : training model with 2 workers on 14502 vocabulary and 100 features, using sg=0 hs=0 sample=0.001 negative=5\n",
      "2016-12-04 19:22:48,966 : INFO : expecting 795538 sentences, matching count from corpus used for vocabulary survey\n",
      "2016-12-04 19:22:50,013 : INFO : PROGRESS: at 0.44% examples, 272255 words/s, in_qsize 3, out_qsize 0\n",
      "2016-12-04 19:22:51,037 : INFO : PROGRESS: at 0.91% examples, 281775 words/s, in_qsize 3, out_qsize 0\n",
      "2016-12-04 19:22:52,046 : INFO : PROGRESS: at 1.38% examples, 286031 words/s, in_qsize 3, out_qsize 0\n",
      "2016-12-04 19:22:53,072 : INFO : PROGRESS: at 1.86% examples, 287107 words/s, in_qsize 3, out_qsize 0\n",
      "2016-12-04 19:22:54,086 : INFO : PROGRESS: at 2.33% examples, 288458 words/s, in_qsize 3, out_qsize 0\n",
      "2016-12-04 19:22:55,091 : INFO : PROGRESS: at 2.80% examples, 288722 words/s, in_qsize 3, out_qsize 0\n",
      "2016-12-04 19:22:56,114 : INFO : PROGRESS: at 3.27% examples, 289145 words/s, in_qsize 3, out_qsize 0\n",
      "2016-12-04 19:22:57,121 : INFO : PROGRESS: at 3.75% examples, 289901 words/s, in_qsize 3, out_qsize 0\n",
      "2016-12-04 19:22:58,132 : INFO : PROGRESS: at 4.21% examples, 289700 words/s, in_qsize 3, out_qsize 0\n",
      "2016-12-04 19:22:59,140 : INFO : PROGRESS: at 4.68% examples, 289627 words/s, in_qsize 3, out_qsize 0\n",
      "2016-12-04 19:23:00,156 : INFO : PROGRESS: at 5.15% examples, 289958 words/s, in_qsize 3, out_qsize 0\n",
      "2016-12-04 19:23:01,180 : INFO : PROGRESS: at 5.62% examples, 290004 words/s, in_qsize 3, out_qsize 0\n",
      "2016-12-04 19:23:02,201 : INFO : PROGRESS: at 6.09% examples, 290092 words/s, in_qsize 3, out_qsize 0\n",
      "2016-12-04 19:23:03,212 : INFO : PROGRESS: at 6.57% examples, 290393 words/s, in_qsize 3, out_qsize 0\n",
      "2016-12-04 19:23:04,227 : INFO : PROGRESS: at 7.04% examples, 290611 words/s, in_qsize 3, out_qsize 0\n",
      "2016-12-04 19:23:05,233 : INFO : PROGRESS: at 7.50% examples, 290526 words/s, in_qsize 3, out_qsize 0\n",
      "2016-12-04 19:23:06,253 : INFO : PROGRESS: at 7.97% examples, 290606 words/s, in_qsize 3, out_qsize 0\n",
      "2016-12-04 19:23:07,257 : INFO : PROGRESS: at 8.43% examples, 290570 words/s, in_qsize 3, out_qsize 0\n",
      "2016-12-04 19:23:08,257 : INFO : PROGRESS: at 8.86% examples, 289859 words/s, in_qsize 3, out_qsize 0\n",
      "2016-12-04 19:23:09,258 : INFO : PROGRESS: at 9.28% examples, 288479 words/s, in_qsize 3, out_qsize 0\n",
      "2016-12-04 19:23:10,268 : INFO : PROGRESS: at 9.71% examples, 287792 words/s, in_qsize 2, out_qsize 1\n",
      "2016-12-04 19:23:11,302 : INFO : PROGRESS: at 10.15% examples, 286861 words/s, in_qsize 3, out_qsize 0\n",
      "2016-12-04 19:23:12,347 : INFO : PROGRESS: at 10.53% examples, 284351 words/s, in_qsize 3, out_qsize 0\n",
      "2016-12-04 19:23:13,349 : INFO : PROGRESS: at 10.92% examples, 282837 words/s, in_qsize 3, out_qsize 0\n",
      "2016-12-04 19:23:14,358 : INFO : PROGRESS: at 11.36% examples, 282787 words/s, in_qsize 3, out_qsize 0\n",
      "2016-12-04 19:23:15,378 : INFO : PROGRESS: at 11.82% examples, 283142 words/s, in_qsize 3, out_qsize 0\n",
      "2016-12-04 19:23:16,396 : INFO : PROGRESS: at 12.29% examples, 283499 words/s, in_qsize 3, out_qsize 0\n",
      "2016-12-04 19:23:17,397 : INFO : PROGRESS: at 12.76% examples, 283756 words/s, in_qsize 3, out_qsize 0\n",
      "2016-12-04 19:23:18,420 : INFO : PROGRESS: at 13.21% examples, 283783 words/s, in_qsize 3, out_qsize 0\n",
      "2016-12-04 19:23:19,425 : INFO : PROGRESS: at 13.61% examples, 282582 words/s, in_qsize 3, out_qsize 0\n",
      "2016-12-04 19:23:20,426 : INFO : PROGRESS: at 14.06% examples, 282605 words/s, in_qsize 3, out_qsize 0\n",
      "2016-12-04 19:23:21,442 : INFO : PROGRESS: at 14.49% examples, 282290 words/s, in_qsize 3, out_qsize 0\n",
      "2016-12-04 19:23:22,461 : INFO : PROGRESS: at 14.96% examples, 282616 words/s, in_qsize 3, out_qsize 0\n",
      "2016-12-04 19:23:23,494 : INFO : PROGRESS: at 15.43% examples, 282786 words/s, in_qsize 3, out_qsize 0\n",
      "2016-12-04 19:23:24,509 : INFO : PROGRESS: at 15.90% examples, 283094 words/s, in_qsize 3, out_qsize 0\n",
      "2016-12-04 19:23:25,529 : INFO : PROGRESS: at 16.37% examples, 283345 words/s, in_qsize 3, out_qsize 0\n",
      "2016-12-04 19:23:26,533 : INFO : PROGRESS: at 16.83% examples, 283528 words/s, in_qsize 3, out_qsize 0\n",
      "2016-12-04 19:23:27,535 : INFO : PROGRESS: at 17.31% examples, 283900 words/s, in_qsize 3, out_qsize 0\n",
      "2016-12-04 19:23:28,539 : INFO : PROGRESS: at 17.76% examples, 284052 words/s, in_qsize 3, out_qsize 0\n",
      "2016-12-04 19:23:29,543 : INFO : PROGRESS: at 18.22% examples, 284195 words/s, in_qsize 3, out_qsize 0\n",
      "2016-12-04 19:23:30,553 : INFO : PROGRESS: at 18.69% examples, 284455 words/s, in_qsize 3, out_qsize 0\n",
      "2016-12-04 19:23:31,561 : INFO : PROGRESS: at 19.16% examples, 284561 words/s, in_qsize 3, out_qsize 0\n",
      "2016-12-04 19:23:32,578 : INFO : PROGRESS: at 19.62% examples, 284761 words/s, in_qsize 3, out_qsize 0\n",
      "2016-12-04 19:23:33,593 : INFO : PROGRESS: at 20.09% examples, 284968 words/s, in_qsize 3, out_qsize 0\n",
      "2016-12-04 19:23:34,612 : INFO : PROGRESS: at 20.56% examples, 285127 words/s, in_qsize 3, out_qsize 0\n",
      "2016-12-04 19:23:35,630 : INFO : PROGRESS: at 21.03% examples, 285275 words/s, in_qsize 4, out_qsize 0\n",
      "2016-12-04 19:23:36,637 : INFO : PROGRESS: at 21.51% examples, 285488 words/s, in_qsize 3, out_qsize 0\n",
      "2016-12-04 19:23:37,653 : INFO : PROGRESS: at 21.97% examples, 285517 words/s, in_qsize 3, out_qsize 0\n",
      "2016-12-04 19:23:38,663 : INFO : PROGRESS: at 22.44% examples, 285570 words/s, in_qsize 3, out_qsize 0\n",
      "2016-12-04 19:23:39,678 : INFO : PROGRESS: at 22.89% examples, 285452 words/s, in_qsize 3, out_qsize 0\n",
      "2016-12-04 19:23:40,683 : INFO : PROGRESS: at 23.36% examples, 285539 words/s, in_qsize 3, out_qsize 0\n",
      "2016-12-04 19:23:41,697 : INFO : PROGRESS: at 23.77% examples, 285019 words/s, in_qsize 3, out_qsize 0\n",
      "2016-12-04 19:23:42,709 : INFO : PROGRESS: at 24.24% examples, 285064 words/s, in_qsize 3, out_qsize 0\n",
      "2016-12-04 19:23:43,718 : INFO : PROGRESS: at 24.54% examples, 283312 words/s, in_qsize 3, out_qsize 0\n",
      "2016-12-04 19:23:44,738 : INFO : PROGRESS: at 24.86% examples, 281691 words/s, in_qsize 3, out_qsize 0\n",
      "2016-12-04 19:23:45,743 : INFO : PROGRESS: at 25.33% examples, 281950 words/s, in_qsize 3, out_qsize 0\n",
      "2016-12-04 19:23:46,754 : INFO : PROGRESS: at 25.80% examples, 282166 words/s, in_qsize 3, out_qsize 0\n",
      "2016-12-04 19:23:47,765 : INFO : PROGRESS: at 26.28% examples, 282379 words/s, in_qsize 3, out_qsize 0\n",
      "2016-12-04 19:23:48,767 : INFO : PROGRESS: at 26.76% examples, 282619 words/s, in_qsize 3, out_qsize 0\n",
      "2016-12-04 19:23:49,774 : INFO : PROGRESS: at 27.22% examples, 282842 words/s, in_qsize 3, out_qsize 0\n",
      "2016-12-04 19:23:50,777 : INFO : PROGRESS: at 27.69% examples, 283087 words/s, in_qsize 3, out_qsize 0\n",
      "2016-12-04 19:23:51,786 : INFO : PROGRESS: at 28.16% examples, 283277 words/s, in_qsize 3, out_qsize 0\n",
      "2016-12-04 19:23:52,792 : INFO : PROGRESS: at 28.63% examples, 283488 words/s, in_qsize 3, out_qsize 0\n",
      "2016-12-04 19:23:53,799 : INFO : PROGRESS: at 29.10% examples, 283680 words/s, in_qsize 3, out_qsize 0\n",
      "2016-12-04 19:23:54,800 : INFO : PROGRESS: at 29.57% examples, 283892 words/s, in_qsize 3, out_qsize 0\n",
      "2016-12-04 19:23:55,834 : INFO : PROGRESS: at 30.01% examples, 283750 words/s, in_qsize 3, out_qsize 0\n",
      "2016-12-04 19:23:56,840 : INFO : PROGRESS: at 30.40% examples, 283105 words/s, in_qsize 2, out_qsize 1\n",
      "2016-12-04 19:23:57,873 : INFO : PROGRESS: at 30.80% examples, 282563 words/s, in_qsize 3, out_qsize 0\n",
      "2016-12-04 19:23:58,891 : INFO : PROGRESS: at 31.22% examples, 282307 words/s, in_qsize 3, out_qsize 0\n",
      "2016-12-04 19:23:59,929 : INFO : PROGRESS: at 31.68% examples, 282376 words/s, in_qsize 3, out_qsize 0\n",
      "2016-12-04 19:24:00,937 : INFO : PROGRESS: at 32.07% examples, 281871 words/s, in_qsize 3, out_qsize 0\n",
      "2016-12-04 19:24:01,943 : INFO : PROGRESS: at 32.50% examples, 281686 words/s, in_qsize 3, out_qsize 0\n",
      "2016-12-04 19:24:02,970 : INFO : PROGRESS: at 32.96% examples, 281711 words/s, in_qsize 3, out_qsize 0\n",
      "2016-12-04 19:24:03,980 : INFO : PROGRESS: at 33.42% examples, 281886 words/s, in_qsize 3, out_qsize 0\n",
      "2016-12-04 19:24:04,982 : INFO : PROGRESS: at 33.88% examples, 282004 words/s, in_qsize 3, out_qsize 0\n",
      "2016-12-04 19:24:05,990 : INFO : PROGRESS: at 34.34% examples, 282094 words/s, in_qsize 3, out_qsize 0\n",
      "2016-12-04 19:24:07,022 : INFO : PROGRESS: at 34.81% examples, 282184 words/s, in_qsize 3, out_qsize 0\n",
      "2016-12-04 19:24:08,051 : INFO : PROGRESS: at 35.29% examples, 282281 words/s, in_qsize 3, out_qsize 0\n",
      "2016-12-04 19:24:09,074 : INFO : PROGRESS: at 35.76% examples, 282398 words/s, in_qsize 3, out_qsize 0\n",
      "2016-12-04 19:24:10,090 : INFO : PROGRESS: at 36.23% examples, 282530 words/s, in_qsize 3, out_qsize 0\n",
      "2016-12-04 19:24:11,091 : INFO : PROGRESS: at 36.69% examples, 282633 words/s, in_qsize 3, out_qsize 0\n",
      "2016-12-04 19:24:12,106 : INFO : PROGRESS: at 37.15% examples, 282680 words/s, in_qsize 3, out_qsize 0\n",
      "2016-12-04 19:24:13,122 : INFO : PROGRESS: at 37.62% examples, 282809 words/s, in_qsize 3, out_qsize 0\n",
      "2016-12-04 19:24:14,149 : INFO : PROGRESS: at 38.08% examples, 282899 words/s, in_qsize 3, out_qsize 0\n",
      "2016-12-04 19:24:15,150 : INFO : PROGRESS: at 38.55% examples, 282988 words/s, in_qsize 3, out_qsize 0\n",
      "2016-12-04 19:24:16,188 : INFO : PROGRESS: at 39.01% examples, 282957 words/s, in_qsize 3, out_qsize 0\n",
      "2016-12-04 19:24:17,197 : INFO : PROGRESS: at 39.44% examples, 282775 words/s, in_qsize 3, out_qsize 0\n",
      "2016-12-04 19:24:18,208 : INFO : PROGRESS: at 39.87% examples, 282675 words/s, in_qsize 3, out_qsize 0\n",
      "2016-12-04 19:24:19,212 : INFO : PROGRESS: at 40.32% examples, 282750 words/s, in_qsize 3, out_qsize 0\n",
      "2016-12-04 19:24:20,222 : INFO : PROGRESS: at 40.79% examples, 282812 words/s, in_qsize 3, out_qsize 0\n",
      "2016-12-04 19:24:21,252 : INFO : PROGRESS: at 41.18% examples, 282465 words/s, in_qsize 3, out_qsize 1\n",
      "2016-12-04 19:24:22,267 : INFO : PROGRESS: at 41.49% examples, 281325 words/s, in_qsize 3, out_qsize 0\n",
      "2016-12-04 19:24:23,272 : INFO : PROGRESS: at 41.84% examples, 280659 words/s, in_qsize 3, out_qsize 0\n",
      "2016-12-04 19:24:24,283 : INFO : PROGRESS: at 42.30% examples, 280739 words/s, in_qsize 3, out_qsize 0\n",
      "2016-12-04 19:24:25,291 : INFO : PROGRESS: at 42.77% examples, 280832 words/s, in_qsize 3, out_qsize 0\n",
      "2016-12-04 19:24:26,305 : INFO : PROGRESS: at 43.22% examples, 280900 words/s, in_qsize 3, out_qsize 0\n",
      "2016-12-04 19:24:27,310 : INFO : PROGRESS: at 43.69% examples, 280983 words/s, in_qsize 3, out_qsize 0\n",
      "2016-12-04 19:24:28,322 : INFO : PROGRESS: at 44.17% examples, 281119 words/s, in_qsize 3, out_qsize 0\n",
      "2016-12-04 19:24:29,323 : INFO : PROGRESS: at 44.63% examples, 281221 words/s, in_qsize 3, out_qsize 0\n",
      "2016-12-04 19:24:30,324 : INFO : PROGRESS: at 45.09% examples, 281308 words/s, in_qsize 3, out_qsize 0\n",
      "2016-12-04 19:24:31,352 : INFO : PROGRESS: at 45.46% examples, 280766 words/s, in_qsize 4, out_qsize 0\n",
      "2016-12-04 19:24:32,379 : INFO : PROGRESS: at 45.75% examples, 279760 words/s, in_qsize 3, out_qsize 0\n",
      "2016-12-04 19:24:33,417 : INFO : PROGRESS: at 46.05% examples, 278814 words/s, in_qsize 2, out_qsize 1\n",
      "2016-12-04 19:24:34,430 : INFO : PROGRESS: at 46.49% examples, 278690 words/s, in_qsize 3, out_qsize 0\n",
      "2016-12-04 19:24:35,433 : INFO : PROGRESS: at 46.94% examples, 278732 words/s, in_qsize 3, out_qsize 0\n",
      "2016-12-04 19:24:36,455 : INFO : PROGRESS: at 47.40% examples, 278791 words/s, in_qsize 3, out_qsize 0\n",
      "2016-12-04 19:24:37,472 : INFO : PROGRESS: at 47.87% examples, 278926 words/s, in_qsize 3, out_qsize 0\n",
      "2016-12-04 19:24:38,476 : INFO : PROGRESS: at 48.33% examples, 279023 words/s, in_qsize 3, out_qsize 0\n",
      "2016-12-04 19:24:39,480 : INFO : PROGRESS: at 48.77% examples, 279057 words/s, in_qsize 3, out_qsize 0\n",
      "2016-12-04 19:24:40,493 : INFO : PROGRESS: at 49.24% examples, 279191 words/s, in_qsize 3, out_qsize 0\n",
      "2016-12-04 19:24:41,499 : INFO : PROGRESS: at 49.70% examples, 279279 words/s, in_qsize 3, out_qsize 0\n",
      "2016-12-04 19:24:42,501 : INFO : PROGRESS: at 50.15% examples, 279316 words/s, in_qsize 3, out_qsize 0\n",
      "2016-12-04 19:24:43,506 : INFO : PROGRESS: at 50.60% examples, 279341 words/s, in_qsize 3, out_qsize 0\n",
      "2016-12-04 19:24:44,530 : INFO : PROGRESS: at 50.99% examples, 279015 words/s, in_qsize 3, out_qsize 0\n",
      "2016-12-04 19:24:45,549 : INFO : PROGRESS: at 51.44% examples, 279072 words/s, in_qsize 3, out_qsize 0\n",
      "2016-12-04 19:24:46,553 : INFO : PROGRESS: at 51.86% examples, 278984 words/s, in_qsize 3, out_qsize 0\n",
      "2016-12-04 19:24:47,586 : INFO : PROGRESS: at 52.32% examples, 279006 words/s, in_qsize 3, out_qsize 0\n",
      "2016-12-04 19:24:48,617 : INFO : PROGRESS: at 52.79% examples, 279089 words/s, in_qsize 3, out_qsize 0\n",
      "2016-12-04 19:24:49,636 : INFO : PROGRESS: at 53.26% examples, 279203 words/s, in_qsize 3, out_qsize 0\n",
      "2016-12-04 19:24:50,639 : INFO : PROGRESS: at 53.72% examples, 279292 words/s, in_qsize 3, out_qsize 0\n",
      "2016-12-04 19:24:51,651 : INFO : PROGRESS: at 54.18% examples, 279361 words/s, in_qsize 3, out_qsize 0\n",
      "2016-12-04 19:24:52,655 : INFO : PROGRESS: at 54.64% examples, 279449 words/s, in_qsize 4, out_qsize 1\n",
      "2016-12-04 19:24:53,685 : INFO : PROGRESS: at 55.11% examples, 279530 words/s, in_qsize 4, out_qsize 1\n",
      "2016-12-04 19:24:54,721 : INFO : PROGRESS: at 55.58% examples, 279594 words/s, in_qsize 3, out_qsize 0\n",
      "2016-12-04 19:24:55,737 : INFO : PROGRESS: at 56.05% examples, 279702 words/s, in_qsize 3, out_qsize 0\n",
      "2016-12-04 19:24:56,741 : INFO : PROGRESS: at 56.51% examples, 279778 words/s, in_qsize 3, out_qsize 0\n",
      "2016-12-04 19:24:57,764 : INFO : PROGRESS: at 56.98% examples, 279871 words/s, in_qsize 3, out_qsize 0\n",
      "2016-12-04 19:24:58,783 : INFO : PROGRESS: at 57.44% examples, 279915 words/s, in_qsize 3, out_qsize 0\n",
      "2016-12-04 19:24:59,813 : INFO : PROGRESS: at 57.91% examples, 279990 words/s, in_qsize 3, out_qsize 0\n",
      "2016-12-04 19:25:00,828 : INFO : PROGRESS: at 58.36% examples, 280043 words/s, in_qsize 3, out_qsize 0\n",
      "2016-12-04 19:25:01,861 : INFO : PROGRESS: at 58.84% examples, 280112 words/s, in_qsize 3, out_qsize 0\n",
      "2016-12-04 19:25:02,868 : INFO : PROGRESS: at 59.32% examples, 280229 words/s, in_qsize 3, out_qsize 0\n",
      "2016-12-04 19:25:03,877 : INFO : PROGRESS: at 59.76% examples, 280295 words/s, in_qsize 3, out_qsize 0\n",
      "2016-12-04 19:25:04,879 : INFO : PROGRESS: at 60.22% examples, 280368 words/s, in_qsize 3, out_qsize 0\n",
      "2016-12-04 19:25:05,902 : INFO : PROGRESS: at 60.70% examples, 280452 words/s, in_qsize 3, out_qsize 0\n",
      "2016-12-04 19:25:06,910 : INFO : PROGRESS: at 61.15% examples, 280508 words/s, in_qsize 3, out_qsize 0\n",
      "2016-12-04 19:25:07,939 : INFO : PROGRESS: at 61.63% examples, 280575 words/s, in_qsize 3, out_qsize 0\n",
      "2016-12-04 19:25:08,964 : INFO : PROGRESS: at 62.08% examples, 280551 words/s, in_qsize 3, out_qsize 0\n",
      "2016-12-04 19:25:09,973 : INFO : PROGRESS: at 62.51% examples, 280459 words/s, in_qsize 3, out_qsize 0\n",
      "2016-12-04 19:25:11,007 : INFO : PROGRESS: at 62.91% examples, 280166 words/s, in_qsize 3, out_qsize 0\n",
      "2016-12-04 19:25:12,015 : INFO : PROGRESS: at 63.37% examples, 280178 words/s, in_qsize 3, out_qsize 0\n",
      "2016-12-04 19:25:13,017 : INFO : PROGRESS: at 63.83% examples, 280247 words/s, in_qsize 3, out_qsize 0\n",
      "2016-12-04 19:25:14,022 : INFO : PROGRESS: at 64.29% examples, 280312 words/s, in_qsize 3, out_qsize 0\n",
      "2016-12-04 19:25:15,043 : INFO : PROGRESS: at 64.76% examples, 280393 words/s, in_qsize 3, out_qsize 0\n",
      "2016-12-04 19:25:16,049 : INFO : PROGRESS: at 65.23% examples, 280451 words/s, in_qsize 3, out_qsize 0\n",
      "2016-12-04 19:25:17,086 : INFO : PROGRESS: at 65.70% examples, 280496 words/s, in_qsize 3, out_qsize 0\n",
      "2016-12-04 19:25:18,106 : INFO : PROGRESS: at 66.17% examples, 280573 words/s, in_qsize 3, out_qsize 0\n",
      "2016-12-04 19:25:19,121 : INFO : PROGRESS: at 66.64% examples, 280613 words/s, in_qsize 3, out_qsize 0\n",
      "2016-12-04 19:25:20,138 : INFO : PROGRESS: at 67.10% examples, 280645 words/s, in_qsize 3, out_qsize 0\n",
      "2016-12-04 19:25:21,162 : INFO : PROGRESS: at 67.57% examples, 280721 words/s, in_qsize 3, out_qsize 0\n",
      "2016-12-04 19:25:22,166 : INFO : PROGRESS: at 68.03% examples, 280780 words/s, in_qsize 3, out_qsize 0\n",
      "2016-12-04 19:25:23,177 : INFO : PROGRESS: at 68.48% examples, 280825 words/s, in_qsize 3, out_qsize 0\n",
      "2016-12-04 19:25:24,182 : INFO : PROGRESS: at 68.95% examples, 280885 words/s, in_qsize 3, out_qsize 0\n",
      "2016-12-04 19:25:25,215 : INFO : PROGRESS: at 69.41% examples, 280933 words/s, in_qsize 3, out_qsize 0\n",
      "2016-12-04 19:25:26,253 : INFO : PROGRESS: at 69.88% examples, 280975 words/s, in_qsize 3, out_qsize 0\n",
      "2016-12-04 19:25:27,253 : INFO : PROGRESS: at 70.34% examples, 281040 words/s, in_qsize 3, out_qsize 0\n",
      "2016-12-04 19:25:28,262 : INFO : PROGRESS: at 70.80% examples, 281082 words/s, in_qsize 3, out_qsize 0\n",
      "2016-12-04 19:25:29,263 : INFO : PROGRESS: at 71.25% examples, 281139 words/s, in_qsize 3, out_qsize 0\n",
      "2016-12-04 19:25:30,293 : INFO : PROGRESS: at 71.72% examples, 281189 words/s, in_qsize 3, out_qsize 0\n",
      "2016-12-04 19:25:31,325 : INFO : PROGRESS: at 72.18% examples, 281238 words/s, in_qsize 3, out_qsize 0\n",
      "2016-12-04 19:25:32,335 : INFO : PROGRESS: at 72.64% examples, 281280 words/s, in_qsize 3, out_qsize 0\n",
      "2016-12-04 19:25:33,359 : INFO : PROGRESS: at 73.11% examples, 281342 words/s, in_qsize 3, out_qsize 0\n",
      "2016-12-04 19:25:34,387 : INFO : PROGRESS: at 73.58% examples, 281396 words/s, in_qsize 3, out_qsize 0\n",
      "2016-12-04 19:25:35,389 : INFO : PROGRESS: at 74.04% examples, 281448 words/s, in_qsize 3, out_qsize 0\n",
      "2016-12-04 19:25:36,398 : INFO : PROGRESS: at 74.50% examples, 281492 words/s, in_qsize 3, out_qsize 0\n",
      "2016-12-04 19:25:37,401 : INFO : PROGRESS: at 74.96% examples, 281544 words/s, in_qsize 3, out_qsize 0\n",
      "2016-12-04 19:25:38,418 : INFO : PROGRESS: at 75.42% examples, 281572 words/s, in_qsize 3, out_qsize 0\n",
      "2016-12-04 19:25:39,426 : INFO : PROGRESS: at 75.89% examples, 281655 words/s, in_qsize 3, out_qsize 0\n",
      "2016-12-04 19:25:40,430 : INFO : PROGRESS: at 76.35% examples, 281702 words/s, in_qsize 3, out_qsize 0\n",
      "2016-12-04 19:25:41,457 : INFO : PROGRESS: at 76.81% examples, 281713 words/s, in_qsize 3, out_qsize 0\n",
      "2016-12-04 19:25:42,465 : INFO : PROGRESS: at 77.28% examples, 281795 words/s, in_qsize 3, out_qsize 0\n",
      "2016-12-04 19:25:43,485 : INFO : PROGRESS: at 77.74% examples, 281815 words/s, in_qsize 3, out_qsize 0\n",
      "2016-12-04 19:25:44,510 : INFO : PROGRESS: at 78.21% examples, 281871 words/s, in_qsize 3, out_qsize 0\n",
      "2016-12-04 19:25:45,527 : INFO : PROGRESS: at 78.68% examples, 281934 words/s, in_qsize 3, out_qsize 0\n",
      "2016-12-04 19:25:46,537 : INFO : PROGRESS: at 79.15% examples, 281971 words/s, in_qsize 3, out_qsize 0\n",
      "2016-12-04 19:25:47,550 : INFO : PROGRESS: at 79.60% examples, 282001 words/s, in_qsize 3, out_qsize 0\n",
      "2016-12-04 19:25:48,551 : INFO : PROGRESS: at 80.06% examples, 282051 words/s, in_qsize 3, out_qsize 0\n",
      "2016-12-04 19:25:49,568 : INFO : PROGRESS: at 80.51% examples, 282074 words/s, in_qsize 3, out_qsize 0\n",
      "2016-12-04 19:25:50,588 : INFO : PROGRESS: at 80.98% examples, 282128 words/s, in_qsize 3, out_qsize 0\n",
      "2016-12-04 19:25:51,591 : INFO : PROGRESS: at 81.45% examples, 282169 words/s, in_qsize 3, out_qsize 0\n",
      "2016-12-04 19:25:52,592 : INFO : PROGRESS: at 81.91% examples, 282219 words/s, in_qsize 3, out_qsize 0\n",
      "2016-12-04 19:25:53,611 : INFO : PROGRESS: at 82.38% examples, 282237 words/s, in_qsize 3, out_qsize 0\n",
      "2016-12-04 19:25:54,638 : INFO : PROGRESS: at 82.86% examples, 282285 words/s, in_qsize 3, out_qsize 0\n",
      "2016-12-04 19:25:55,642 : INFO : PROGRESS: at 83.32% examples, 282326 words/s, in_qsize 3, out_qsize 0\n",
      "2016-12-04 19:25:56,654 : INFO : PROGRESS: at 83.78% examples, 282351 words/s, in_qsize 3, out_qsize 0\n",
      "2016-12-04 19:25:57,670 : INFO : PROGRESS: at 84.26% examples, 282411 words/s, in_qsize 3, out_qsize 0\n",
      "2016-12-04 19:25:58,673 : INFO : PROGRESS: at 84.72% examples, 282453 words/s, in_qsize 3, out_qsize 0\n",
      "2016-12-04 19:25:59,690 : INFO : PROGRESS: at 85.18% examples, 282472 words/s, in_qsize 3, out_qsize 0\n",
      "2016-12-04 19:26:00,699 : INFO : PROGRESS: at 85.64% examples, 282501 words/s, in_qsize 3, out_qsize 0\n",
      "2016-12-04 19:26:01,723 : INFO : PROGRESS: at 86.11% examples, 282546 words/s, in_qsize 3, out_qsize 0\n",
      "2016-12-04 19:26:02,731 : INFO : PROGRESS: at 86.59% examples, 282577 words/s, in_qsize 3, out_qsize 0\n",
      "2016-12-04 19:26:03,760 : INFO : PROGRESS: at 87.05% examples, 282611 words/s, in_qsize 3, out_qsize 0\n",
      "2016-12-04 19:26:04,762 : INFO : PROGRESS: at 87.51% examples, 282654 words/s, in_qsize 3, out_qsize 0\n",
      "2016-12-04 19:26:05,779 : INFO : PROGRESS: at 87.97% examples, 282671 words/s, in_qsize 3, out_qsize 0\n",
      "2016-12-04 19:26:06,792 : INFO : PROGRESS: at 88.43% examples, 282693 words/s, in_qsize 3, out_qsize 0\n",
      "2016-12-04 19:26:07,805 : INFO : PROGRESS: at 88.89% examples, 282720 words/s, in_qsize 3, out_qsize 0\n",
      "2016-12-04 19:26:08,807 : INFO : PROGRESS: at 89.35% examples, 282756 words/s, in_qsize 3, out_qsize 0\n",
      "2016-12-04 19:26:09,808 : INFO : PROGRESS: at 89.80% examples, 282796 words/s, in_qsize 3, out_qsize 0\n",
      "2016-12-04 19:26:10,821 : INFO : PROGRESS: at 90.26% examples, 282820 words/s, in_qsize 3, out_qsize 0\n",
      "2016-12-04 19:26:11,860 : INFO : PROGRESS: at 90.73% examples, 282838 words/s, in_qsize 4, out_qsize 1\n",
      "2016-12-04 19:26:12,891 : INFO : PROGRESS: at 91.20% examples, 282871 words/s, in_qsize 3, out_qsize 0\n",
      "2016-12-04 19:26:13,925 : INFO : PROGRESS: at 91.66% examples, 282895 words/s, in_qsize 3, out_qsize 0\n",
      "2016-12-04 19:26:14,927 : INFO : PROGRESS: at 92.08% examples, 282829 words/s, in_qsize 3, out_qsize 0\n",
      "2016-12-04 19:26:15,935 : INFO : PROGRESS: at 92.39% examples, 282412 words/s, in_qsize 3, out_qsize 0\n",
      "2016-12-04 19:26:16,964 : INFO : PROGRESS: at 92.83% examples, 282345 words/s, in_qsize 3, out_qsize 0\n",
      "2016-12-04 19:26:17,978 : INFO : PROGRESS: at 93.21% examples, 282130 words/s, in_qsize 3, out_qsize 0\n",
      "2016-12-04 19:26:18,979 : INFO : PROGRESS: at 93.65% examples, 282104 words/s, in_qsize 3, out_qsize 0\n",
      "2016-12-04 19:26:20,002 : INFO : PROGRESS: at 94.11% examples, 282117 words/s, in_qsize 3, out_qsize 0\n",
      "2016-12-04 19:26:21,013 : INFO : PROGRESS: at 94.57% examples, 282144 words/s, in_qsize 3, out_qsize 0\n",
      "2016-12-04 19:26:22,013 : INFO : PROGRESS: at 95.03% examples, 282184 words/s, in_qsize 3, out_qsize 0\n",
      "2016-12-04 19:26:23,040 : INFO : PROGRESS: at 95.50% examples, 282223 words/s, in_qsize 3, out_qsize 0\n",
      "2016-12-04 19:26:24,048 : INFO : PROGRESS: at 95.96% examples, 282253 words/s, in_qsize 3, out_qsize 0\n",
      "2016-12-04 19:26:25,079 : INFO : PROGRESS: at 96.43% examples, 282285 words/s, in_qsize 3, out_qsize 0\n",
      "2016-12-04 19:26:26,087 : INFO : PROGRESS: at 96.89% examples, 282314 words/s, in_qsize 3, out_qsize 0\n",
      "2016-12-04 19:26:27,100 : INFO : PROGRESS: at 97.35% examples, 282336 words/s, in_qsize 3, out_qsize 0\n",
      "2016-12-04 19:26:28,122 : INFO : PROGRESS: at 97.82% examples, 282381 words/s, in_qsize 3, out_qsize 0\n",
      "2016-12-04 19:26:29,129 : INFO : PROGRESS: at 98.27% examples, 282412 words/s, in_qsize 3, out_qsize 0\n",
      "2016-12-04 19:26:30,138 : INFO : PROGRESS: at 98.74% examples, 282439 words/s, in_qsize 3, out_qsize 0\n",
      "2016-12-04 19:26:31,141 : INFO : PROGRESS: at 99.21% examples, 282474 words/s, in_qsize 3, out_qsize 0\n",
      "2016-12-04 19:26:32,173 : INFO : PROGRESS: at 99.67% examples, 282502 words/s, in_qsize 3, out_qsize 0\n",
      "2016-12-04 19:26:32,876 : INFO : worker thread finished; awaiting finish of 1 more threads\n",
      "2016-12-04 19:26:32,917 : INFO : worker thread finished; awaiting finish of 0 more threads\n",
      "2016-12-04 19:26:32,919 : INFO : training on 88991315 raw words (63260188 effective words) took 223.9s, 282509 effective words/s\n",
      "2016-12-04 19:26:32,921 : INFO : precomputing L2-norms of word weight vectors\n",
      "2016-12-04 19:26:33,189 : INFO : saving Word2Vec object under 100features_50minwords_5context, separately None\n",
      "2016-12-04 19:26:33,190 : INFO : not storing attribute cum_table\n",
      "2016-12-04 19:26:33,192 : INFO : not storing attribute syn0norm\n"
     ]
    }
   ],
   "source": [
    "if not model:\n",
    "    # Import the built-in logging module and configure it so that Word2Vec \n",
    "    # creates nice output messages\n",
    "    import logging\n",
    "    logging.basicConfig(format='%(asctime)s : %(levelname)s : %(message)s', level=logging.INFO)\n",
    "    \n",
    "    # Set values for various parameters\n",
    "    num_features = 100    # Word vector dimensionality\n",
    "    min_word_count = 50   # Minimum word count\n",
    "    num_workers = 2       # Number of threads to run in parallel\n",
    "    context = 5           # Context window size                               \n",
    "    downsampling = 1e-3   # Downsample setting for frequent words\n",
    "\n",
    "    # Initialize and train the model (this will take some time)\n",
    "    from gensim.models import word2vec\n",
    "    print(\"Training model...\")\n",
    "    model = word2vec.Word2Vec(sentences, workers=num_workers,\n",
    "                              size=num_features, min_count = min_word_count,\n",
    "                              window = context, sample = downsampling)\n",
    "\n",
    "    # If you don't plan to train the model any further, calling \n",
    "    # init_sims will make the model much more memory-efficient.\n",
    "    model.init_sims(replace=True)\n",
    "\n",
    "    # It can be helpful to create a meaningful model name and \n",
    "    # save the model for later use. You can load it later using Word2Vec.load()\n",
    "    model_name = \"100features_50minwords_5context\"\n",
    "    model.save(model_name)\n",
    "\n",
    "    with open(word2vec_file, 'wb') as f:\n",
    "        pickle.dump(model, f, pickle.HIGHEST_PROTOCOL)"
   ]
  },
  {
   "cell_type": "code",
   "execution_count": 15,
   "metadata": {
    "collapsed": false
   },
   "outputs": [
    {
     "data": {
      "text/plain": [
       "0.82106420960043902"
      ]
     },
     "execution_count": 15,
     "metadata": {},
     "output_type": "execute_result"
    }
   ],
   "source": [
    "model.similarity(\"woman\", \"girl\")"
   ]
  },
  {
   "cell_type": "code",
   "execution_count": 24,
   "metadata": {
    "collapsed": false
   },
   "outputs": [
    {
     "data": {
      "text/plain": [
       "'movie'"
      ]
     },
     "execution_count": 24,
     "metadata": {},
     "output_type": "execute_result"
    }
   ],
   "source": [
    "model.doesnt_match(\"movie batman star cat\".split())"
   ]
  },
  {
   "cell_type": "code",
   "execution_count": 38,
   "metadata": {
    "collapsed": false
   },
   "outputs": [
    {
     "data": {
      "text/plain": [
       "[('the', 6295),\n",
       " ('a', 3148),\n",
       " ('and', 3077),\n",
       " ('of', 2784),\n",
       " ('to', 2524),\n",
       " ('is', 2125),\n",
       " ('it', 1791),\n",
       " ('in', 1789),\n",
       " ('i', 1617),\n",
       " ('this', 1434),\n",
       " ('that', 1411),\n",
       " ('s', 1368),\n",
       " ('with', 915),\n",
       " ('for', 856),\n",
       " ('as', 856),\n",
       " ('but', 840),\n",
       " ('was', 839),\n",
       " ('film', 798),\n",
       " ('movie', 793),\n",
       " ('on', 640),\n",
       " ('you', 607),\n",
       " ('t', 606),\n",
       " ('are', 567),\n",
       " ('one', 545),\n",
       " ('his', 532),\n",
       " ('he', 529),\n",
       " ('not', 523),\n",
       " ('be', 514),\n",
       " ('have', 509),\n",
       " ('all', 481),\n",
       " ('by', 462),\n",
       " ('at', 451),\n",
       " ('an', 423),\n",
       " ('her', 418),\n",
       " ('who', 417),\n",
       " ('from', 398),\n",
       " ('so', 397),\n",
       " ('like', 369),\n",
       " ('there', 362),\n",
       " ('has', 341),\n",
       " ('some', 338),\n",
       " ('they', 336),\n",
       " ('about', 331),\n",
       " ('or', 327),\n",
       " ('out', 326),\n",
       " ('just', 321),\n",
       " ('if', 318),\n",
       " ('good', 299),\n",
       " ('she', 277),\n",
       " ('very', 274),\n",
       " ('when', 266),\n",
       " ('more', 263),\n",
       " ('up', 259),\n",
       " ('can', 257),\n",
       " ('no', 252),\n",
       " ('what', 246),\n",
       " ('even', 245),\n",
       " ('really', 239),\n",
       " ('only', 238),\n",
       " ('time', 232),\n",
       " ('their', 230),\n",
       " ('which', 227),\n",
       " ('would', 226),\n",
       " ('my', 218),\n",
       " ('story', 216),\n",
       " ('well', 213),\n",
       " ('me', 205),\n",
       " ('had', 201),\n",
       " ('people', 199),\n",
       " ('we', 195),\n",
       " ('how', 192),\n",
       " ('bad', 192),\n",
       " ('see', 191),\n",
       " ('into', 186),\n",
       " ('will', 185),\n",
       " ('first', 178),\n",
       " ('other', 176),\n",
       " ('get', 172),\n",
       " ('also', 172),\n",
       " ('been', 171)]"
      ]
     },
     "execution_count": 38,
     "metadata": {},
     "output_type": "execute_result"
    }
   ],
   "source": [
    "import itertools\n",
    "from collections import Counter\n",
    "\n",
    "count_dict = Counter(itertools.chain(*sentences[:5000]))\n",
    "count_dict.most_common(80)"
   ]
  },
  {
   "cell_type": "code",
   "execution_count": 86,
   "metadata": {
    "collapsed": true
   },
   "outputs": [],
   "source": [
    "def plot_similarity(model, words):\n",
    "    from sklearn.manifold import TSNE\n",
    "    \n",
    "    X_frequent = model[words]\n",
    "    model_tsne = TSNE(n_components=2, random_state=0)\n",
    "    X_2D = model_tsne.fit_transform(X_frequent) \n",
    "    \n",
    "    plt.plot(X_2D[:, 0], X_2D[:, 1], 'ro')\n",
    "\n",
    "    for i, txt in enumerate(words):\n",
    "        plt.annotate(txt, X_2D[i])\n",
    "\n",
    "    plt.show()"
   ]
  },
  {
   "cell_type": "code",
   "execution_count": 87,
   "metadata": {
    "collapsed": false
   },
   "outputs": [
    {
     "data": {
      "image/png": "[encoded data removed]",
      "text/plain": [
       "<matplotlib.figure.Figure at 0x7fd8f4ca85c0>"
      ]
     },
     "metadata": {},
     "output_type": "display_data"
    }
   ],
   "source": [
    "example_words = [\"actor\", \"actress\", \"man\", \"woman\"]\n",
    "plot_similarity(model, example_words)"
   ]
  },
  {
   "cell_type": "code",
   "execution_count": 88,
   "metadata": {
    "collapsed": false
   },
   "outputs": [
    {
     "data": {
      "image/png": "[encoded data removed]",
      "text/plain": [
       "<matplotlib.figure.Figure at 0x7fd8f4be73c8>"
      ]
     },
     "metadata": {},
     "output_type": "display_data"
    }
   ],
   "source": [
    "example_words = [\"batman\", \"joker\", \"good\", \"bad\"]\n",
    "plot_similarity(model, example_words)"
   ]
  }
 ],
 "metadata": {
  "anaconda-cloud": {},
  "kernelspec": {
   "display_name": "Python [default]",
   "language": "python",
   "name": "python3"
  },
  "language_info": {
   "codemirror_mode": {
    "name": "ipython",
    "version": 3
   },
   "file_extension": ".py",
   "mimetype": "text/x-python",
   "name": "python",
   "nbconvert_exporter": "python",
   "pygments_lexer": "ipython3",
   "version": "3.5.2"
  }
 },
 "nbformat": 4,
 "nbformat_minor": 2
}
